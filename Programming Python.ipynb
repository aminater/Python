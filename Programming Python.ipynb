{
 "metadata": {
  "language_info": {
   "codemirror_mode": {
    "name": "ipython",
    "version": 3
   },
   "file_extension": ".py",
   "mimetype": "text/x-python",
   "name": "python",
   "nbconvert_exporter": "python",
   "pygments_lexer": "ipython3",
   "version": "3.8.5-final"
  },
  "orig_nbformat": 2,
  "kernelspec": {
   "name": "python3",
   "display_name": "Python 3",
   "language": "python"
  }
 },
 "nbformat": 4,
 "nbformat_minor": 2,
 "cells": [
  {
   "cell_type": "code",
   "execution_count": 1,
   "metadata": {},
   "outputs": [],
   "source": [
    "bob = ['Bob Smith', 42, 300000, 'software']\n",
    "sue = ['Sue Jone', 45, 400000, 'hardware']"
   ]
  },
  {
   "cell_type": "code",
   "execution_count": 2,
   "metadata": {},
   "outputs": [
    {
     "output_type": "execute_result",
     "data": {
      "text/plain": [
       "('Bob Smith', 400000)"
      ]
     },
     "metadata": {},
     "execution_count": 2
    }
   ],
   "source": [
    "bob[0], sue[2]"
   ]
  },
  {
   "cell_type": "code",
   "execution_count": 3,
   "metadata": {},
   "outputs": [
    {
     "output_type": "execute_result",
     "data": {
      "text/plain": [
       "'Smith'"
      ]
     },
     "metadata": {},
     "execution_count": 3
    }
   ],
   "source": [
    "bob[0].split()[-1]"
   ]
  },
  {
   "cell_type": "code",
   "execution_count": 4,
   "metadata": {},
   "outputs": [
    {
     "output_type": "execute_result",
     "data": {
      "text/plain": [
       "['Sue Jone', 45, 500000.0, 'hardware']"
      ]
     },
     "metadata": {},
     "execution_count": 4
    }
   ],
   "source": [
    "sue[2] *= 1.25\n",
    "sue"
   ]
  },
  {
   "source": [
    "## # A database list"
   ],
   "cell_type": "markdown",
   "metadata": {}
  },
  {
   "cell_type": "code",
   "execution_count": 9,
   "metadata": {},
   "outputs": [
    {
     "output_type": "stream",
     "name": "stdout",
     "text": [
      "['Bob Smith', 42, 300000, 'software']\n['Sue Jone', 45, 500000.0, 'hardware']\n"
     ]
    }
   ],
   "source": [
    "people = [bob, sue]\n",
    "for person in people:\n",
    "    print(person)"
   ]
  },
  {
   "cell_type": "code",
   "execution_count": 10,
   "metadata": {},
   "outputs": [
    {
     "output_type": "execute_result",
     "data": {
      "text/plain": [
       "'Sue Jone'"
      ]
     },
     "metadata": {},
     "execution_count": 10
    }
   ],
   "source": [
    "people[1][0]"
   ]
  },
  {
   "cell_type": "code",
   "execution_count": 11,
   "metadata": {},
   "outputs": [
    {
     "output_type": "stream",
     "name": "stdout",
     "text": [
      "Smith\nJone\n"
     ]
    }
   ],
   "source": [
    "for person in people:\n",
    "    print(person[0].split()[-1])\n",
    "    person[2] *= 1.20"
   ]
  },
  {
   "cell_type": "code",
   "execution_count": 12,
   "metadata": {},
   "outputs": [
    {
     "output_type": "stream",
     "name": "stdout",
     "text": [
      "360000.0\n600000.0\n"
     ]
    }
   ],
   "source": [
    "for person in people: print(person[2])"
   ]
  },
  {
   "cell_type": "code",
   "execution_count": 14,
   "metadata": {},
   "outputs": [
    {
     "output_type": "execute_result",
     "data": {
      "text/plain": [
       "[360000.0, 600000.0]"
      ]
     },
     "metadata": {},
     "execution_count": 14
    }
   ],
   "source": [
    "pays = [person[2] for person in people]\n",
    "pays"
   ]
  },
  {
   "cell_type": "code",
   "execution_count": 15,
   "metadata": {},
   "outputs": [
    {
     "output_type": "execute_result",
     "data": {
      "text/plain": [
       "[360000.0, 600000.0]"
      ]
     },
     "metadata": {},
     "execution_count": 15
    }
   ],
   "source": [
    "pays = map((lambda x: x[2]), people)\n",
    "list(pays)"
   ]
  },
  {
   "cell_type": "code",
   "execution_count": 16,
   "metadata": {},
   "outputs": [
    {
     "output_type": "execute_result",
     "data": {
      "text/plain": [
       "960000.0"
      ]
     },
     "metadata": {},
     "execution_count": 16
    }
   ],
   "source": [
    "sum(person[2] for person in people)"
   ]
  },
  {
   "cell_type": "code",
   "execution_count": 17,
   "metadata": {},
   "outputs": [
    {
     "output_type": "execute_result",
     "data": {
      "text/plain": [
       "3"
      ]
     },
     "metadata": {},
     "execution_count": 17
    }
   ],
   "source": [
    "people.append(['Tom', 50, 0, None])\n",
    "len(people)"
   ]
  },
  {
   "cell_type": "code",
   "execution_count": 18,
   "metadata": {},
   "outputs": [
    {
     "output_type": "execute_result",
     "data": {
      "text/plain": [
       "'Tom'"
      ]
     },
     "metadata": {},
     "execution_count": 18
    }
   ],
   "source": [
    "people[-1][0]"
   ]
  },
  {
   "source": [
    "## # Field labels"
   ],
   "cell_type": "markdown",
   "metadata": {}
  },
  {
   "cell_type": "code",
   "execution_count": 20,
   "metadata": {},
   "outputs": [
    {
     "output_type": "execute_result",
     "data": {
      "text/plain": [
       "'Bob Smith'"
      ]
     },
     "metadata": {},
     "execution_count": 20
    }
   ],
   "source": [
    "NAME, AGE, PAY = range(3) # 0, 1, and 2\n",
    "bob = ['Bob Smith', 42, 10000]\n",
    "bob[NAME]"
   ]
  },
  {
   "cell_type": "code",
   "execution_count": 21,
   "metadata": {},
   "outputs": [
    {
     "output_type": "execute_result",
     "data": {
      "text/plain": [
       "(2, 10000)"
      ]
     },
     "metadata": {},
     "execution_count": 21
    }
   ],
   "source": [
    "PAY, bob[PAY]"
   ]
  },
  {
   "cell_type": "code",
   "execution_count": 22,
   "metadata": {},
   "outputs": [],
   "source": [
    "bob = [['name', 'Bob Smith'], ['age', 42], ['pay', 10000]]\n",
    "sue = [['name','Sue Jones'], ['age', 45], ['pay', 20000]]\n",
    "people = [bob, sue]"
   ]
  },
  {
   "cell_type": "code",
   "execution_count": 23,
   "metadata": {},
   "outputs": [
    {
     "output_type": "stream",
     "name": "stdout",
     "text": [
      "Bob Smith 10000\nSue Jones 20000\n"
     ]
    }
   ],
   "source": [
    "for person in people:\n",
    "    print(person[0][1], person[2][1])"
   ]
  },
  {
   "cell_type": "code",
   "execution_count": 24,
   "metadata": {},
   "outputs": [
    {
     "output_type": "execute_result",
     "data": {
      "text/plain": [
       "['Bob Smith', 'Sue Jones']"
      ]
     },
     "metadata": {},
     "execution_count": 24
    }
   ],
   "source": [
    "[person[0][1] for person in people]"
   ]
  },
  {
   "cell_type": "code",
   "execution_count": 25,
   "metadata": {},
   "outputs": [
    {
     "output_type": "stream",
     "name": "stdout",
     "text": [
      "Smith\nJones\n"
     ]
    }
   ],
   "source": [
    "for person in people:\n",
    "    print(person[0][1].split()[-1])\n",
    "    person[2][1] *= 1.10"
   ]
  },
  {
   "cell_type": "code",
   "execution_count": 26,
   "metadata": {},
   "outputs": [
    {
     "output_type": "stream",
     "name": "stdout",
     "text": [
      "['pay', 11000.0]\n['pay', 22000.0]\n"
     ]
    }
   ],
   "source": [
    "for person in people: print(person[2])"
   ]
  },
  {
   "cell_type": "code",
   "execution_count": 27,
   "metadata": {},
   "outputs": [],
   "source": [
    "def field(record, label):\n",
    "    for (fname, fvalue) in record:\n",
    "        if fname == label:\n",
    "            return fvalue"
   ]
  },
  {
   "cell_type": "code",
   "execution_count": 28,
   "metadata": {},
   "outputs": [
    {
     "output_type": "execute_result",
     "data": {
      "text/plain": [
       "'Bob Smith'"
      ]
     },
     "metadata": {},
     "execution_count": 28
    }
   ],
   "source": [
    "field(bob, 'name')"
   ]
  },
  {
   "cell_type": "code",
   "execution_count": 29,
   "metadata": {},
   "outputs": [
    {
     "output_type": "execute_result",
     "data": {
      "text/plain": [
       "22000.0"
      ]
     },
     "metadata": {},
     "execution_count": 29
    }
   ],
   "source": [
    "field(sue, 'pay')"
   ]
  },
  {
   "cell_type": "code",
   "execution_count": 30,
   "metadata": {},
   "outputs": [
    {
     "output_type": "stream",
     "name": "stdout",
     "text": [
      "42\n45\n"
     ]
    }
   ],
   "source": [
    "for rec in people:\n",
    "    print(field(rec, 'age'))"
   ]
  },
  {
   "source": [
    "## Using Dictionaries"
   ],
   "cell_type": "markdown",
   "metadata": {}
  },
  {
   "cell_type": "code",
   "execution_count": 35,
   "metadata": {},
   "outputs": [],
   "source": [
    "bob = {'name': 'Bob Smith', 'age' : 42, 'pay' : 30000, 'job' : 'dev'}\n",
    "sue = {'name' : 'Sue Jones', 'age' : 45, 'pay' : 40000, 'job' : 'hdw'}"
   ]
  },
  {
   "cell_type": "code",
   "execution_count": 36,
   "metadata": {},
   "outputs": [
    {
     "output_type": "execute_result",
     "data": {
      "text/plain": [
       "('Bob Smith', 40000)"
      ]
     },
     "metadata": {},
     "execution_count": 36
    }
   ],
   "source": [
    "bob['name'], sue['pay']"
   ]
  },
  {
   "cell_type": "code",
   "execution_count": 37,
   "metadata": {},
   "outputs": [
    {
     "output_type": "execute_result",
     "data": {
      "text/plain": [
       "'Smith'"
      ]
     },
     "metadata": {},
     "execution_count": 37
    }
   ],
   "source": [
    "bob['name'].split()[-1]"
   ]
  },
  {
   "cell_type": "code",
   "execution_count": 38,
   "metadata": {},
   "outputs": [
    {
     "output_type": "execute_result",
     "data": {
      "text/plain": [
       "44000.0"
      ]
     },
     "metadata": {},
     "execution_count": 38
    }
   ],
   "source": [
    "sue['pay'] *= 1.10\n",
    "sue['pay']"
   ]
  },
  {
   "source": [
    "## Other ways to make dictionaries"
   ],
   "cell_type": "markdown",
   "metadata": {}
  },
  {
   "cell_type": "code",
   "execution_count": 3,
   "metadata": {},
   "outputs": [],
   "source": [
    "bob = dict(name='Bob Smith', age=42, pay=30000, job='dev')\n",
    "sue = dict(name='Sue Jones', age=45, pay=40000, job='hdw')"
   ]
  },
  {
   "cell_type": "code",
   "execution_count": 4,
   "metadata": {},
   "outputs": [
    {
     "output_type": "execute_result",
     "data": {
      "text/plain": [
       "{'name': 'Bob Smith', 'age': 42, 'pay': 30000, 'job': 'dev'}"
      ]
     },
     "metadata": {},
     "execution_count": 4
    }
   ],
   "source": [
    "bob"
   ]
  },
  {
   "cell_type": "code",
   "execution_count": 5,
   "metadata": {},
   "outputs": [
    {
     "output_type": "execute_result",
     "data": {
      "text/plain": [
       "{'name': 'Sue Jones', 'age': 45, 'pay': 40000, 'job': 'hdw'}"
      ]
     },
     "metadata": {},
     "execution_count": 5
    }
   ],
   "source": [
    "sue = {}\n",
    "sue['name'] = 'Sue Jones'\n",
    "sue['age'] = 45\n",
    "sue['pay'] = 40000\n",
    "sue['job'] = 'hdw'\n",
    "sue"
   ]
  },
  {
   "cell_type": "code",
   "execution_count": 6,
   "metadata": {},
   "outputs": [
    {
     "output_type": "execute_result",
     "data": {
      "text/plain": [
       "[('name', 'Sue Jones'), ('age', 45), ('pay', 40000), ('job', 'hdw')]"
      ]
     },
     "metadata": {},
     "execution_count": 6
    }
   ],
   "source": [
    "names = ['name','age','pay','job']\n",
    "values = ['Sue Jones', 45, 40000, 'hdw']\n",
    "list(zip(names, values))"
   ]
  },
  {
   "cell_type": "code",
   "execution_count": 7,
   "metadata": {},
   "outputs": [
    {
     "output_type": "execute_result",
     "data": {
      "text/plain": [
       "{'name': 'Sue Jones', 'age': 45, 'pay': 40000, 'job': 'hdw'}"
      ]
     },
     "metadata": {},
     "execution_count": 7
    }
   ],
   "source": [
    "sue = dict(zip(names, values))\n",
    "sue"
   ]
  },
  {
   "source": [
    "## List of dictionries"
   ],
   "cell_type": "markdown",
   "metadata": {}
  },
  {
   "cell_type": "code",
   "execution_count": 8,
   "metadata": {},
   "outputs": [
    {
     "output_type": "execute_result",
     "data": {
      "text/plain": [
       "{'name': 'Bob Smith', 'age': 42, 'pay': 30000, 'job': 'dev'}"
      ]
     },
     "metadata": {},
     "execution_count": 8
    }
   ],
   "source": [
    "bob"
   ]
  },
  {
   "cell_type": "code",
   "execution_count": 9,
   "metadata": {},
   "outputs": [
    {
     "output_type": "execute_result",
     "data": {
      "text/plain": [
       "{'name': 'Sue Jones', 'age': 45, 'pay': 40000, 'job': 'hdw'}"
      ]
     },
     "metadata": {},
     "execution_count": 9
    }
   ],
   "source": [
    "sue"
   ]
  },
  {
   "cell_type": "code",
   "execution_count": 10,
   "metadata": {},
   "outputs": [
    {
     "output_type": "stream",
     "name": "stdout",
     "text": [
      "Bob Smith, 30000\nSue Jones, 40000\n"
     ]
    }
   ],
   "source": [
    "people = [bob, sue]\n",
    "for person in people:\n",
    "    print(person['name'], person['pay'], sep=', ')"
   ]
  },
  {
   "cell_type": "code",
   "execution_count": 11,
   "metadata": {},
   "outputs": [
    {
     "output_type": "stream",
     "name": "stdout",
     "text": [
      "40000\n"
     ]
    }
   ],
   "source": [
    "for person in people:\n",
    "    if person['name'] == 'Sue Jones':\n",
    "        print(person['pay'])"
   ]
  },
  {
   "cell_type": "code",
   "execution_count": 12,
   "metadata": {},
   "outputs": [
    {
     "output_type": "execute_result",
     "data": {
      "text/plain": [
       "['Bob Smith', 'Sue Jones']"
      ]
     },
     "metadata": {},
     "execution_count": 12
    }
   ],
   "source": [
    "names = [person['name'] for person in people]\n",
    "names"
   ]
  },
  {
   "cell_type": "code",
   "execution_count": 13,
   "metadata": {},
   "outputs": [
    {
     "output_type": "execute_result",
     "data": {
      "text/plain": [
       "['Bob Smith', 'Sue Jones']"
      ]
     },
     "metadata": {},
     "execution_count": 13
    }
   ],
   "source": [
    "list(map((lambda x : x['name']), people))"
   ]
  },
  {
   "cell_type": "code",
   "execution_count": 14,
   "metadata": {},
   "outputs": [
    {
     "output_type": "execute_result",
     "data": {
      "text/plain": [
       "70000"
      ]
     },
     "metadata": {},
     "execution_count": 14
    }
   ],
   "source": [
    "sum(person['pay'] for person in people)"
   ]
  },
  {
   "cell_type": "code",
   "execution_count": 15,
   "metadata": {},
   "outputs": [
    {
     "output_type": "execute_result",
     "data": {
      "text/plain": [
       "['Sue Jones']"
      ]
     },
     "metadata": {},
     "execution_count": 15
    }
   ],
   "source": [
    "[rec['name'] for rec in people if rec['age'] >=45] #SQL-ish query"
   ]
  },
  {
   "cell_type": "code",
   "execution_count": 16,
   "metadata": {},
   "outputs": [
    {
     "output_type": "execute_result",
     "data": {
      "text/plain": [
       "[42, 2025]"
      ]
     },
     "metadata": {},
     "execution_count": 16
    }
   ],
   "source": [
    "[(rec['age'] ** 2 if rec['age'] >= 45 else rec['age']) for rec in people]"
   ]
  },
  {
   "cell_type": "code",
   "execution_count": 18,
   "metadata": {},
   "outputs": [
    {
     "output_type": "execute_result",
     "data": {
      "text/plain": [
       "'Sue Jones'"
      ]
     },
     "metadata": {},
     "execution_count": 18
    }
   ],
   "source": [
    "G = (rec['name'] for rec in people if rec['age'] >= 45)\n",
    "next(G)"
   ]
  },
  {
   "cell_type": "code",
   "execution_count": 20,
   "metadata": {},
   "outputs": [
    {
     "output_type": "execute_result",
     "data": {
      "text/plain": [
       "42"
      ]
     },
     "metadata": {},
     "execution_count": 20
    }
   ],
   "source": [
    "G = ((rec['age'] ** 2 if rec['age'] >=45 else rec['age']) for rec in people)\n",
    "G.__next__()"
   ]
  },
  {
   "cell_type": "code",
   "execution_count": 22,
   "metadata": {},
   "outputs": [
    {
     "output_type": "stream",
     "name": "stdout",
     "text": [
      "Smith\nJones\n"
     ]
    }
   ],
   "source": [
    "for person in people:\n",
    "    print(person['name'].split()[-1])\n",
    "    person['pay'] *= 1.10"
   ]
  },
  {
   "cell_type": "code",
   "execution_count": 23,
   "metadata": {},
   "outputs": [
    {
     "output_type": "stream",
     "name": "stdout",
     "text": [
      "33000.0\n44000.0\n"
     ]
    }
   ],
   "source": [
    "for perosn in people: print(perosn['pay'])"
   ]
  },
  {
   "source": [
    "## Dictionaries of dictionaries"
   ],
   "cell_type": "markdown",
   "metadata": {}
  },
  {
   "cell_type": "code",
   "execution_count": 25,
   "metadata": {},
   "outputs": [
    {
     "output_type": "execute_result",
     "data": {
      "text/plain": [
       "{'name': 'Bob Smith', 'age': 42, 'pay': 30000, 'job': 'dev'}"
      ]
     },
     "metadata": {},
     "execution_count": 25
    }
   ],
   "source": [
    "bob = dict(name='Bob Smith', age=42, pay=30000, job='dev')\n",
    "sue = dict(name='Sue Jones', age=45, pay=40000, job='hdw')\n",
    "bob"
   ]
  },
  {
   "cell_type": "code",
   "execution_count": 26,
   "metadata": {},
   "outputs": [],
   "source": [
    "db = {}\n",
    "db['bob']=bob\n",
    "db['sue']=sue"
   ]
  },
  {
   "cell_type": "code",
   "execution_count": 27,
   "metadata": {},
   "outputs": [
    {
     "output_type": "execute_result",
     "data": {
      "text/plain": [
       "'Bob Smith'"
      ]
     },
     "metadata": {},
     "execution_count": 27
    }
   ],
   "source": [
    "db['bob']['name']"
   ]
  },
  {
   "cell_type": "code",
   "execution_count": 28,
   "metadata": {},
   "outputs": [
    {
     "output_type": "execute_result",
     "data": {
      "text/plain": [
       "'Sue Jones'"
      ]
     },
     "metadata": {},
     "execution_count": 28
    }
   ],
   "source": [
    "db['sue']['name']"
   ]
  },
  {
   "cell_type": "code",
   "execution_count": 29,
   "metadata": {},
   "outputs": [
    {
     "output_type": "execute_result",
     "data": {
      "text/plain": [
       "50000"
      ]
     },
     "metadata": {},
     "execution_count": 29
    }
   ],
   "source": [
    "db['sue']['pay'] = 50000\n",
    "db['sue']['pay']"
   ]
  },
  {
   "cell_type": "code",
   "execution_count": 30,
   "metadata": {},
   "outputs": [
    {
     "output_type": "execute_result",
     "data": {
      "text/plain": [
       "{'bob': {'name': 'Bob Smith', 'age': 42, 'pay': 30000, 'job': 'dev'},\n",
       " 'sue': {'name': 'Sue Jones', 'age': 45, 'pay': 50000, 'job': 'hdw'}}"
      ]
     },
     "metadata": {},
     "execution_count": 30
    }
   ],
   "source": [
    "db"
   ]
  },
  {
   "cell_type": "code",
   "execution_count": 31,
   "metadata": {},
   "outputs": [
    {
     "output_type": "stream",
     "name": "stdout",
     "text": [
      "{'bob': {'age': 42, 'job': 'dev', 'name': 'Bob Smith', 'pay': 30000},\n 'sue': {'age': 45, 'job': 'hdw', 'name': 'Sue Jones', 'pay': 50000}}\n"
     ]
    }
   ],
   "source": [
    "import pprint\n",
    "pprint.pprint(db)"
   ]
  },
  {
   "cell_type": "code",
   "execution_count": 33,
   "metadata": {},
   "outputs": [
    {
     "output_type": "stream",
     "name": "stdout",
     "text": [
      "bob => Bob Smith\nsue => Sue Jones\n"
     ]
    }
   ],
   "source": [
    "for key in db:\n",
    "    print(key, '=>', db[key]['name'])"
   ]
  },
  {
   "cell_type": "code",
   "execution_count": 34,
   "metadata": {},
   "outputs": [
    {
     "output_type": "stream",
     "name": "stdout",
     "text": [
      "bob => 30000\nsue => 50000\n"
     ]
    }
   ],
   "source": [
    "for key in db:\n",
    "    print(key, '=>', db[key]['pay'])"
   ]
  },
  {
   "cell_type": "code",
   "execution_count": 36,
   "metadata": {},
   "outputs": [
    {
     "output_type": "stream",
     "name": "stdout",
     "text": [
      "Smith\nJones\n"
     ]
    }
   ],
   "source": [
    "for key in db:\n",
    "    print(db[key]['name'].split()[-1])\n",
    "    db[key]['pay'] *= 1.10"
   ]
  },
  {
   "cell_type": "code",
   "execution_count": 37,
   "metadata": {},
   "outputs": [
    {
     "output_type": "stream",
     "name": "stdout",
     "text": [
      "33000.0\n55000.00000000001\n"
     ]
    }
   ],
   "source": [
    "for record in db.values(): print(record['pay'])"
   ]
  },
  {
   "cell_type": "code",
   "execution_count": 38,
   "metadata": {},
   "outputs": [
    {
     "output_type": "execute_result",
     "data": {
      "text/plain": [
       "['Bob Smith', 'Sue Jones']"
      ]
     },
     "metadata": {},
     "execution_count": 38
    }
   ],
   "source": [
    "x = [db[key]['name'] for key in db]\n",
    "x"
   ]
  },
  {
   "cell_type": "code",
   "execution_count": 39,
   "metadata": {},
   "outputs": [
    {
     "output_type": "execute_result",
     "data": {
      "text/plain": [
       "['Bob Smith', 'Sue Jones']"
      ]
     },
     "metadata": {},
     "execution_count": 39
    }
   ],
   "source": [
    "x = [rec['name'] for rec in db.values()]\n",
    "x"
   ]
  },
  {
   "cell_type": "code",
   "execution_count": 43,
   "metadata": {},
   "outputs": [
    {
     "output_type": "execute_result",
     "data": {
      "text/plain": [
       "{'name': 'Tom', 'age': 50, 'job': None, 'pay': 0}"
      ]
     },
     "metadata": {},
     "execution_count": 43
    }
   ],
   "source": [
    "db['tom'] = dict(name = 'Tom', age=50, job=None, pay=0)\n",
    "db['tom']"
   ]
  },
  {
   "cell_type": "code",
   "execution_count": 44,
   "metadata": {},
   "outputs": [
    {
     "output_type": "execute_result",
     "data": {
      "text/plain": [
       "['bob', 'sue', 'tom']"
      ]
     },
     "metadata": {},
     "execution_count": 44
    }
   ],
   "source": [
    "list(db.keys())"
   ]
  },
  {
   "cell_type": "code",
   "execution_count": 45,
   "metadata": {},
   "outputs": [
    {
     "output_type": "execute_result",
     "data": {
      "text/plain": [
       "3"
      ]
     },
     "metadata": {},
     "execution_count": 45
    }
   ],
   "source": [
    "len(db)"
   ]
  },
  {
   "cell_type": "code",
   "execution_count": 46,
   "metadata": {},
   "outputs": [
    {
     "output_type": "execute_result",
     "data": {
      "text/plain": [
       "[42, 45, 50]"
      ]
     },
     "metadata": {},
     "execution_count": 46
    }
   ],
   "source": [
    "[rec['age'] for rec in db.values()]"
   ]
  },
  {
   "cell_type": "code",
   "execution_count": 47,
   "metadata": {},
   "outputs": [
    {
     "output_type": "execute_result",
     "data": {
      "text/plain": [
       "['Sue Jones', 'Tom']"
      ]
     },
     "metadata": {},
     "execution_count": 47
    }
   ],
   "source": [
    "[rec['name'] for rec in db.values() if rec['age'] >= 45]"
   ]
  },
  {
   "cell_type": "code",
   "execution_count": null,
   "metadata": {},
   "outputs": [],
   "source": []
  }
 ]
}